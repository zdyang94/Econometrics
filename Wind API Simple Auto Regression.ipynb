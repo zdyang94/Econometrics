{
 "cells": [
  {
   "cell_type": "markdown",
   "metadata": {},
   "source": [
   ]
  },
  {
   "cell_type": "code",
   "execution_count": 1,
   "metadata": {},
   "outputs": [
    {
     "name": "stdout",
     "output_type": "stream",
     "text": [
      "Welcome to use Wind Quant API for Python (WindPy)!\n",
      "\n",
      "COPYRIGHT (C) 2017 WIND INFORMATION CO., LTD. ALL RIGHTS RESERVED.\n",
      "IN NO CIRCUMSTANCE SHALL WIND BE RESPONSIBLE FOR ANY DAMAGES OR LOSSES CAUSED BY USING WIND QUANT API FOR Python.\n"
     ]
    },
    {
     "data": {
      "text/plain": [
       "True"
      ]
     },
     "execution_count": 1,
     "metadata": {},
     "output_type": "execute_result"
    }
   ],
   "source": [
    "\n",
    "from WindPy import *\n",
    "w.start()\n",
    "w.isconnected()"
   ]
  },
  {
   "cell_type": "code",
   "execution_count": null,
   "metadata": {},
   "outputs": [],
   "source": []
  },
  {
   "cell_type": "code",
   "execution_count": 2,
   "metadata": {},
   "outputs": [
    {
     "data": {
      "text/plain": [
       "Series([], dtype: float64)"
      ]
     },
     "execution_count": 2,
     "metadata": {},
     "output_type": "execute_result"
    }
   ],
   "source": [
    "import pandas as pd\n",
    "storage=pd.Series([])\n",
    "storage\n"
   ]
  },
  {
   "cell_type": "code",
   "execution_count": null,
   "metadata": {},
   "outputs": [],
   "source": []
  },
  {
   "cell_type": "markdown",
   "metadata": {},
   "source": [
    "自建一个代码库，可以涵盖需要的股票信息"
   ]
  },
  {
   "cell_type": "code",
   "execution_count": 3,
   "metadata": {},
   "outputs": [],
   "source": [
    "import datetime\n",
    "\n",
    "class stock:\n",
    "    def __init__(self,code,date):\n",
    "        stock.code=code\n",
    "        stock.name=w.wss(code, \"sec_name\").Data[0][0]\n",
    "        stock.transdate=date\n",
    "        stock.price=w.wsd(code,\"close\",date,).Data[0]\n",
    "        \n",
    "        \n",
    "def historical(code,Days,freq=0):\n",
    "    now = datetime.datetime.now()\n",
    "    delta = datetime.timedelta(days=Days)\n",
    "    old=now-delta\n",
    "    storage=pd.DataFrame()\n",
    "    freqdata=\"BarSize=\"+str(freq)\n",
    "    if freq==0:\n",
    "        a=now.strftime('%Y-%m-%d')\n",
    "        b=old.strftime('%Y-%m-%d')\n",
    "        z=w.wsd(code,\"open,high,low,close,chg,amt\",b, a, \"\")\n",
    "    else:\n",
    "        a=now.strftime('%Y-%m-%d %H:%M:%S')\n",
    "        b=old.strftime('%Y-%m-%d %H:%M:%S')\n",
    "        z=w.wsi(code, \"open,high,low,close,chg,amt\", a, b,freqdata)\n",
    "    storage['Time']=z.Times[:]\n",
    "    storage['Open']=z.Data[0]\n",
    "    storage['High']=z.Data[1]\n",
    "    storage['Low']=z.Data[2]\n",
    "    storage['Close']=z.Data[3]\n",
    "    storage['Change%']=z.Data[4]    \n",
    "    storage['Amt']=z.Data[5]\n",
    "    return storage\n",
    "                "
   ]
  },
  {
   "cell_type": "markdown",
   "metadata": {},
   "source": [
    "创建一个股票库，准备做多因子回归分析，基本想法是做一个df，以列的形式保存n天的数据，作为后续回归基础\n",
    "可能存在的问题是数据量比较大（3759个A股公司）"
   ]
  },
  {
   "cell_type": "code",
   "execution_count": 4,
   "metadata": {},
   "outputs": [
    {
     "name": "stdout",
     "output_type": "stream",
     "text": [
      "3206\n"
     ]
    }
   ],
   "source": [
    "#获取所有A股代码#\n",
    "AllAStock =w.wset(\"SectorConstituent\",\"date=20170502;sectorId=a001010100000000;field=wind_code\");\n",
    "if AllAStock.ErrorCode != 0:\n",
    "    print(\"Get Data failed! exit!\")\n",
    "    exit()\n",
    "#把股票代码转变为列表格式\n",
    "stock_code=AllAStock.Data[0]\n",
    "print(len(stock_code))\n",
    "\n",
    "def database(codelist,Days):\n",
    "    #codelist 传入一个列表形式的str，days为需要获取的时间长度#\n",
    "    now = datetime.datetime.now()\n",
    "    delta = datetime.timedelta(days=Days)\n",
    "    old=now-delta\n",
    "    a=now.strftime('%Y-%m-%d')\n",
    "    b=old.strftime('%Y-%m-%d')\n",
    "    data=pd.DataFrame()\n",
    "    for i in codelist:\n",
    "        data[i]=w.wsd(i,\"close\",b,a,\"Fill=Previous\").Data[0]\n",
    "    return data"
   ]
  },
  {
   "cell_type": "markdown",
   "metadata": {},
   "source": [
    "写一个程序，输入两列（或三列）数字，返回R方，coef"
   ]
  },
  {
   "cell_type": "code",
   "execution_count": 5,
   "metadata": {},
   "outputs": [],
   "source": [
    "import statsmodels.api as sm\n",
    "def getregresult(a,b):\n",
    "    #a is dependent, b is independent variable#\n",
    "    b=sm.add_constant(b)\n",
    "    model = sm.OLS(a, b).fit()\n",
    "    intercept=model.params[0]\n",
    "    slope=model.params[1]\n",
    "    return model.params"
   ]
  },
  {
   "cell_type": "code",
   "execution_count": 6,
   "metadata": {},
   "outputs": [
    {
     "name": "stdout",
     "output_type": "stream",
     "text": [
      "const        7.294513\n",
      "000002.SZ    0.296507\n",
      "dtype: float64\n"
     ]
    },
    {
     "name": "stderr",
     "output_type": "stream",
     "text": [
      "C:\\Users\\zhang\\Anaconda3\\lib\\site-packages\\numpy\\core\\fromnumeric.py:2389: FutureWarning: Method .ptp is deprecated and will be removed in a future version. Use numpy.ptp instead.\n",
      "  return ptp(axis=axis, out=out, **kwargs)\n"
     ]
    }
   ],
   "source": [
    "a=database(stock_code[:2],30).iloc[:,0]\n",
    "b=database(stock_code[:2],30).iloc[:,1]\n",
    "print(getregresult(a,b))\n"
   ]
  },
  {
   "cell_type": "code",
   "execution_count": null,
   "metadata": {},
   "outputs": [],
   "source": [
    "database(stock_code.ilo)"
   ]
  },
  {
   "cell_type": "code",
   "execution_count": null,
   "metadata": {},
   "outputs": [],
   "source": []
  },
  {
   "cell_type": "code",
   "execution_count": null,
   "metadata": {},
   "outputs": [],
   "source": []
  },
  {
   "cell_type": "code",
   "execution_count": null,
   "metadata": {},
   "outputs": [],
   "source": []
  },
  {
   "cell_type": "code",
   "execution_count": null,
   "metadata": {},
   "outputs": [],
   "source": []
  },
  {
   "cell_type": "code",
   "execution_count": null,
   "metadata": {},
   "outputs": [],
   "source": []
  },
  {
   "cell_type": "code",
   "execution_count": null,
   "metadata": {},
   "outputs": [],
   "source": []
  },
  {
   "cell_type": "code",
   "execution_count": null,
   "metadata": {},
   "outputs": [],
   "source": []
  },
  {
   "cell_type": "code",
   "execution_count": null,
   "metadata": {},
   "outputs": [],
   "source": []
  },
  {
   "cell_type": "code",
   "execution_count": null,
   "metadata": {},
   "outputs": [],
   "source": [
    "#1. 简单的黄金交叉死亡交叉策略\n",
    "# 移动平均线交叉进场条件：当FMA自下方与SMAj交叉时，进场做多；当FMA自上方与SMA交叉时，进场做空。"
   ]
  }
 ],
 "metadata": {
  "kernelspec": {
   "display_name": "Python 3",
   "language": "python",
   "name": "python3"
  },
  "language_info": {
   "codemirror_mode": {
    "name": "ipython",
    "version": 3
   },
   "file_extension": ".py",
   "mimetype": "text/x-python",
   "name": "python",
   "nbconvert_exporter": "python",
   "pygments_lexer": "ipython3",
   "version": "3.7.3"
  }
 },
 "nbformat": 4,
 "nbformat_minor": 2
}
